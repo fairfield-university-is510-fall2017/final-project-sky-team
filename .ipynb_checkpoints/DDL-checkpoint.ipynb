{
 "cells": [
  {
   "cell_type": "markdown",
   "metadata": {},
   "source": [
    "## SQLite DDL"
   ]
  },
  {
   "cell_type": "markdown",
   "metadata": {},
   "source": [
    "## This notebook is the DDL of the air traffic database. "
   ]
  },
  {
   "cell_type": "markdown",
   "metadata": {},
   "source": [
    "### Import sqlite3, Pandas, and the ipython-sql (%sql) Jupyter extension"
   ]
  },
  {
   "cell_type": "code",
   "execution_count": 29,
   "metadata": {},
   "outputs": [
    {
     "name": "stdout",
     "output_type": "stream",
     "text": [
      "The sql extension is already loaded. To reload it, use:\n",
      "  %reload_ext sql\n"
     ]
    }
   ],
   "source": [
    "import sqlite3\n",
    "import pandas as pd\n",
    "\n",
    "%load_ext sql"
   ]
  },
  {
   "cell_type": "markdown",
   "metadata": {},
   "source": [
    "### Connecting to the database"
   ]
  },
  {
   "cell_type": "code",
   "execution_count": 30,
   "metadata": {},
   "outputs": [
    {
     "data": {
      "text/plain": [
       "'Connected: None@airtraffic.db'"
      ]
     },
     "execution_count": 30,
     "metadata": {},
     "output_type": "execute_result"
    }
   ],
   "source": [
    "%sql sqlite:///airtraffic.db"
   ]
  },
  {
   "cell_type": "markdown",
   "metadata": {},
   "source": [
    "### Creating tables schema"
   ]
  },
  {
   "cell_type": "code",
   "execution_count": 31,
   "metadata": {},
   "outputs": [
    {
     "name": "stdout",
     "output_type": "stream",
     "text": [
      "(sqlite3.OperationalError) table AIRPORTDIMENSION already exists [SQL: 'CREATE TABLE AIRPORTDIMENSION (\\n    AirportID INTEGER PRIMARY KEY,\\n    Terminal TEXT NOT NULL,\\n    BoardingArea TEXT\\n);']\n"
     ]
    }
   ],
   "source": [
    "%%sql \n",
    "CREATE TABLE AIRPORTDIMENSION (\n",
    "    AirportID INTEGER PRIMARY KEY,\n",
    "    Terminal TEXT NOT NULL,\n",
    "    BoardingArea TEXT\n",
    ");"
   ]
  },
  {
   "cell_type": "code",
   "execution_count": 32,
   "metadata": {},
   "outputs": [
    {
     "name": "stdout",
     "output_type": "stream",
     "text": [
      "(sqlite3.OperationalError) table GEOGRAPHICDIMENSION already exists [SQL: 'CREATE TABLE GEOGRAPHICDIMENSION (\\n    GeoID INTEGER PRIMARY KEY,\\n    GeoSummary TEXT NOT NULL,\\n    GeoRegion TEXT NOT NULL\\n);']\n"
     ]
    }
   ],
   "source": [
    "%%sql \n",
    "CREATE TABLE GEOGRAPHICDIMENSION (\n",
    "    GeoID INTEGER PRIMARY KEY,\n",
    "    GeoSummary TEXT NOT NULL,\n",
    "    GeoRegion TEXT NOT NULL\n",
    ");"
   ]
  },
  {
   "cell_type": "code",
   "execution_count": 33,
   "metadata": {},
   "outputs": [
    {
     "name": "stdout",
     "output_type": "stream",
     "text": [
      "(sqlite3.OperationalError) table OPERATINGAIRDIMENSION already exists [SQL: 'CREATE TABLE OPERATINGAIRDIMENSION (\\n    OperatingID INTEGER PRIMARY KEY,\\n    OperatingAirlineIdentifier TEXT,\\n    OperatingIATA TEXT\\n);']\n"
     ]
    }
   ],
   "source": [
    "%%sql \n",
    "CREATE TABLE OPERATINGAIRDIMENSION (\n",
    "    OperatingID INTEGER PRIMARY KEY,\n",
    "    OperatingAirlineIdentifier TEXT,\n",
    "    OperatingIATA TEXT\n",
    ");"
   ]
  },
  {
   "cell_type": "code",
   "execution_count": 34,
   "metadata": {},
   "outputs": [
    {
     "name": "stdout",
     "output_type": "stream",
     "text": [
      "(sqlite3.OperationalError) table PUBLISHEDAIRDIMENSION already exists [SQL: 'CREATE TABLE PUBLISHEDAIRDIMENSION (\\n    PublishedID INTEGER PRIMARY KEY,\\n    PublishedAirline TEXT,\\n    PublishedIATA TEXT\\n);']\n"
     ]
    }
   ],
   "source": [
    "%%sql \n",
    "CREATE TABLE PUBLISHEDAIRDIMENSION (\n",
    "    PublishedID INTEGER PRIMARY KEY,\n",
    "    PublishedAirline TEXT,\n",
    "    PublishedIATA TEXT\n",
    ");"
   ]
  },
  {
   "cell_type": "code",
   "execution_count": 35,
   "metadata": {},
   "outputs": [
    {
     "name": "stdout",
     "output_type": "stream",
     "text": [
      "(sqlite3.OperationalError) table BRIDGEDIMENSION already exists [SQL: 'CREATE TABLE BRIDGEDIMENSION (\\n    BridgeID INTEGER PRIMARY KEY,\\n    PublishedID INTERGER NOT NULL,\\n    OperatingID INTERGER NOT NULL,\\n    FOREIGN KEY (PublishedID) REFERENCES PUBLISHEDAIRDIMENSION (PublishedID),\\n    FOREIGN KEY (OperatingID) REFERENCES OPERATINGAIRDIMENSION (OperatingID)\\n);']\n"
     ]
    }
   ],
   "source": [
    "%%sql\n",
    "CREATE TABLE BRIDGEDIMENSION (\n",
    "    BridgeID INTEGER PRIMARY KEY,\n",
    "    PublishedID INTERGER NOT NULL,\n",
    "    OperatingID INTERGER NOT NULL,\n",
    "    FOREIGN KEY (PublishedID) REFERENCES PUBLISHEDAIRDIMENSION (PublishedID),\n",
    "    FOREIGN KEY (OperatingID) REFERENCES OPERATINGAIRDIMENSION (OperatingID)\n",
    ");"
   ]
  },
  {
   "cell_type": "code",
   "execution_count": 36,
   "metadata": {},
   "outputs": [
    {
     "name": "stdout",
     "output_type": "stream",
     "text": [
      "Done.\n"
     ]
    },
    {
     "data": {
      "text/plain": [
       "[]"
      ]
     },
     "execution_count": 36,
     "metadata": {},
     "output_type": "execute_result"
    }
   ],
   "source": [
    "%%sql\n",
    "CREATE TABLE ACTIVITYDIMENSION (\n",
    "    ActivityID INTEGER PRIMARY KEY,\n",
    "    ActivityType TEXT NOT NULL\n",
    ");"
   ]
  },
  {
   "cell_type": "code",
   "execution_count": 37,
   "metadata": {},
   "outputs": [
    {
     "name": "stdout",
     "output_type": "stream",
     "text": [
      "(sqlite3.OperationalError) table PRICEDIMENSION already exists [SQL: 'CREATE TABLE PRICEDIMENSION (\\n    PriceID INTEGER PRIMARY KEY,\\n    PriceCategory TEXT NOT NULL\\n);']\n"
     ]
    }
   ],
   "source": [
    "%%sql\n",
    "CREATE TABLE PRICEDIMENSION (\n",
    "    PriceID INTEGER PRIMARY KEY,\n",
    "    PriceCategory TEXT NOT NULL\n",
    ");"
   ]
  },
  {
   "cell_type": "code",
   "execution_count": 38,
   "metadata": {},
   "outputs": [
    {
     "name": "stdout",
     "output_type": "stream",
     "text": [
      "(sqlite3.OperationalError) table TIMEDIMENSION already exists [SQL: 'CREATE TABLE TIMEDIMENSION (\\n    TimeID INTEGER PRIMARY KEY,\\n    ActivityPeriod INTEGER NOT NULL,\\n    ActivityPeriodMonth INTEGER NOT NULL,\\n    ActivityPeriodYear INTEGER NOT NULL\\n);']\n"
     ]
    }
   ],
   "source": [
    "%%sql\n",
    "CREATE TABLE TIMEDIMENSION (\n",
    "    TimeID INTEGER PRIMARY KEY,\n",
    "    ActivityPeriod INTEGER NOT NULL,\n",
    "    ActivityPeriodMonth INTEGER NOT NULL,\n",
    "    ActivityPeriodYear INTEGER NOT NULL\n",
    ");"
   ]
  },
  {
   "cell_type": "code",
   "execution_count": 39,
   "metadata": {},
   "outputs": [
    {
     "name": "stdout",
     "output_type": "stream",
     "text": [
      "(sqlite3.OperationalError) table PASSENGERFACT already exists [SQL: 'CREATE TABLE PASSENGERFACT (\\n    EntryID INTEGER PRIMARY KEY,\\n    OperatingID INTERGER NOT NULL,\\n    AirportID INTERGER NOT NULL,\\n    GeoID INTERGER NOT NULL,\\n    ActivityID INTEGER NOT NULL,\\n    TimeID INTEGER NOT NULL,\\n    PublishedID INTEGER NOT NULL,\\n    PassengerCount INTEGER NOT NULL,\\n    FOREIGN KEY (OperatingID) REFERENCES OPERATINGAIRDIMENSION (OperatingID)\\n    FOREIGN KEY (AirportID) REFERENCES AIRPORTDIMENSION (AirportID),\\n    FOREIGN KEY (GeoID) REFERENCES GEOGRAPHICDIMENSION (GeoID),\\n    FOREIGN KEY (ActivityID) REFERENCES ACTIVITYDIMENSION (ActivityID),\\n    FOREIGN KEY (TimeID) REFERENCES TIMEDIMENSION (TimeID),\\n    FOREIGN KEY (PublishedID) REFERENCES PUBLISHEDAIRDIMENSION (PublishedID)\\n);']\n"
     ]
    }
   ],
   "source": [
    "%%sql\n",
    "CREATE TABLE PASSENGERFACT (\n",
    "    EntryID INTEGER PRIMARY KEY,\n",
    "    OperatingID INTERGER NOT NULL,\n",
    "    AirportID INTERGER NOT NULL,\n",
    "    GeoID INTERGER NOT NULL,\n",
    "    ActivityID INTEGER NOT NULL,\n",
    "    TimeID INTEGER NOT NULL,\n",
    "    PublishedID INTEGER NOT NULL,\n",
    "    PassengerCount INTEGER NOT NULL,\n",
    "    FOREIGN KEY (OperatingID) REFERENCES OPERATINGAIRDIMENSION (OperatingID)\n",
    "    FOREIGN KEY (AirportID) REFERENCES AIRPORTDIMENSION (AirportID),\n",
    "    FOREIGN KEY (GeoID) REFERENCES GEOGRAPHICDIMENSION (GeoID),\n",
    "    FOREIGN KEY (ActivityID) REFERENCES ACTIVITYDIMENSION (ActivityID),\n",
    "    FOREIGN KEY (TimeID) REFERENCES TIMEDIMENSION (TimeID),\n",
    "    FOREIGN KEY (PublishedID) REFERENCES PUBLISHEDAIRDIMENSION (PublishedID)\n",
    ");"
   ]
  },
  {
   "cell_type": "markdown",
   "metadata": {},
   "source": [
    "### Viewing table schema with pragma queries"
   ]
  },
  {
   "cell_type": "code",
   "execution_count": 40,
   "metadata": {},
   "outputs": [
    {
     "name": "stdout",
     "output_type": "stream",
     "text": [
      "Done.\n"
     ]
    },
    {
     "data": {
      "text/html": [
       "<table>\n",
       "    <tr>\n",
       "        <th>cid</th>\n",
       "        <th>name</th>\n",
       "        <th>type</th>\n",
       "        <th>notnull</th>\n",
       "        <th>dflt_value</th>\n",
       "        <th>pk</th>\n",
       "    </tr>\n",
       "    <tr>\n",
       "        <td>0</td>\n",
       "        <td>AirportID</td>\n",
       "        <td>INTEGER</td>\n",
       "        <td>0</td>\n",
       "        <td>None</td>\n",
       "        <td>1</td>\n",
       "    </tr>\n",
       "    <tr>\n",
       "        <td>1</td>\n",
       "        <td>Terminal</td>\n",
       "        <td>TEXT</td>\n",
       "        <td>1</td>\n",
       "        <td>None</td>\n",
       "        <td>0</td>\n",
       "    </tr>\n",
       "    <tr>\n",
       "        <td>2</td>\n",
       "        <td>BoardingArea</td>\n",
       "        <td>TEXT</td>\n",
       "        <td>0</td>\n",
       "        <td>None</td>\n",
       "        <td>0</td>\n",
       "    </tr>\n",
       "</table>"
      ],
      "text/plain": [
       "[(0, 'AirportID', 'INTEGER', 0, None, 1),\n",
       " (1, 'Terminal', 'TEXT', 1, None, 0),\n",
       " (2, 'BoardingArea', 'TEXT', 0, None, 0)]"
      ]
     },
     "execution_count": 40,
     "metadata": {},
     "output_type": "execute_result"
    }
   ],
   "source": [
    "%%sql\n",
    "pragma table_info('AIRPORTDIMENSION');"
   ]
  },
  {
   "cell_type": "code",
   "execution_count": 41,
   "metadata": {},
   "outputs": [
    {
     "name": "stdout",
     "output_type": "stream",
     "text": [
      "Done.\n"
     ]
    },
    {
     "data": {
      "text/html": [
       "<table>\n",
       "    <tr>\n",
       "        <th>cid</th>\n",
       "        <th>name</th>\n",
       "        <th>type</th>\n",
       "        <th>notnull</th>\n",
       "        <th>dflt_value</th>\n",
       "        <th>pk</th>\n",
       "    </tr>\n",
       "    <tr>\n",
       "        <td>0</td>\n",
       "        <td>ActivityID</td>\n",
       "        <td>INTEGER</td>\n",
       "        <td>0</td>\n",
       "        <td>None</td>\n",
       "        <td>1</td>\n",
       "    </tr>\n",
       "    <tr>\n",
       "        <td>1</td>\n",
       "        <td>ActivityType</td>\n",
       "        <td>TEXT</td>\n",
       "        <td>1</td>\n",
       "        <td>None</td>\n",
       "        <td>0</td>\n",
       "    </tr>\n",
       "</table>"
      ],
      "text/plain": [
       "[(0, 'ActivityID', 'INTEGER', 0, None, 1),\n",
       " (1, 'ActivityType', 'TEXT', 1, None, 0)]"
      ]
     },
     "execution_count": 41,
     "metadata": {},
     "output_type": "execute_result"
    }
   ],
   "source": [
    "%%sql\n",
    "pragma table_info('ACTIVITYDIMENSION');"
   ]
  },
  {
   "cell_type": "code",
   "execution_count": 42,
   "metadata": {},
   "outputs": [
    {
     "name": "stdout",
     "output_type": "stream",
     "text": [
      "Done.\n"
     ]
    },
    {
     "data": {
      "text/html": [
       "<table>\n",
       "    <tr>\n",
       "        <th>cid</th>\n",
       "        <th>name</th>\n",
       "        <th>type</th>\n",
       "        <th>notnull</th>\n",
       "        <th>dflt_value</th>\n",
       "        <th>pk</th>\n",
       "    </tr>\n",
       "    <tr>\n",
       "        <td>0</td>\n",
       "        <td>PriceID</td>\n",
       "        <td>INTEGER</td>\n",
       "        <td>0</td>\n",
       "        <td>None</td>\n",
       "        <td>1</td>\n",
       "    </tr>\n",
       "    <tr>\n",
       "        <td>1</td>\n",
       "        <td>PriceCategory</td>\n",
       "        <td>TEXT</td>\n",
       "        <td>1</td>\n",
       "        <td>None</td>\n",
       "        <td>0</td>\n",
       "    </tr>\n",
       "</table>"
      ],
      "text/plain": [
       "[(0, 'PriceID', 'INTEGER', 0, None, 1),\n",
       " (1, 'PriceCategory', 'TEXT', 1, None, 0)]"
      ]
     },
     "execution_count": 42,
     "metadata": {},
     "output_type": "execute_result"
    }
   ],
   "source": [
    "%%sql\n",
    "pragma table_info('PRICEDIMENSION');"
   ]
  },
  {
   "cell_type": "code",
   "execution_count": 43,
   "metadata": {},
   "outputs": [
    {
     "name": "stdout",
     "output_type": "stream",
     "text": [
      "Done.\n"
     ]
    },
    {
     "data": {
      "text/html": [
       "<table>\n",
       "    <tr>\n",
       "        <th>cid</th>\n",
       "        <th>name</th>\n",
       "        <th>type</th>\n",
       "        <th>notnull</th>\n",
       "        <th>dflt_value</th>\n",
       "        <th>pk</th>\n",
       "    </tr>\n",
       "    <tr>\n",
       "        <td>0</td>\n",
       "        <td>TimeID</td>\n",
       "        <td>INTEGER</td>\n",
       "        <td>0</td>\n",
       "        <td>None</td>\n",
       "        <td>1</td>\n",
       "    </tr>\n",
       "    <tr>\n",
       "        <td>1</td>\n",
       "        <td>ActivityPeriod</td>\n",
       "        <td>INTEGER</td>\n",
       "        <td>1</td>\n",
       "        <td>None</td>\n",
       "        <td>0</td>\n",
       "    </tr>\n",
       "    <tr>\n",
       "        <td>2</td>\n",
       "        <td>ActivityPeriodMonth</td>\n",
       "        <td>INTEGER</td>\n",
       "        <td>1</td>\n",
       "        <td>None</td>\n",
       "        <td>0</td>\n",
       "    </tr>\n",
       "    <tr>\n",
       "        <td>3</td>\n",
       "        <td>ActivityPeriodYear</td>\n",
       "        <td>INTEGER</td>\n",
       "        <td>1</td>\n",
       "        <td>None</td>\n",
       "        <td>0</td>\n",
       "    </tr>\n",
       "</table>"
      ],
      "text/plain": [
       "[(0, 'TimeID', 'INTEGER', 0, None, 1),\n",
       " (1, 'ActivityPeriod', 'INTEGER', 1, None, 0),\n",
       " (2, 'ActivityPeriodMonth', 'INTEGER', 1, None, 0),\n",
       " (3, 'ActivityPeriodYear', 'INTEGER', 1, None, 0)]"
      ]
     },
     "execution_count": 43,
     "metadata": {},
     "output_type": "execute_result"
    }
   ],
   "source": [
    "%%sql\n",
    "pragma table_info('TIMEDIMENSION');"
   ]
  },
  {
   "cell_type": "code",
   "execution_count": 44,
   "metadata": {},
   "outputs": [
    {
     "name": "stdout",
     "output_type": "stream",
     "text": [
      "Done.\n"
     ]
    },
    {
     "data": {
      "text/html": [
       "<table>\n",
       "    <tr>\n",
       "        <th>cid</th>\n",
       "        <th>name</th>\n",
       "        <th>type</th>\n",
       "        <th>notnull</th>\n",
       "        <th>dflt_value</th>\n",
       "        <th>pk</th>\n",
       "    </tr>\n",
       "    <tr>\n",
       "        <td>0</td>\n",
       "        <td>GeoID</td>\n",
       "        <td>INTEGER</td>\n",
       "        <td>0</td>\n",
       "        <td>None</td>\n",
       "        <td>1</td>\n",
       "    </tr>\n",
       "    <tr>\n",
       "        <td>1</td>\n",
       "        <td>GeoSummary</td>\n",
       "        <td>TEXT</td>\n",
       "        <td>1</td>\n",
       "        <td>None</td>\n",
       "        <td>0</td>\n",
       "    </tr>\n",
       "    <tr>\n",
       "        <td>2</td>\n",
       "        <td>GeoRegion</td>\n",
       "        <td>TEXT</td>\n",
       "        <td>1</td>\n",
       "        <td>None</td>\n",
       "        <td>0</td>\n",
       "    </tr>\n",
       "</table>"
      ],
      "text/plain": [
       "[(0, 'GeoID', 'INTEGER', 0, None, 1),\n",
       " (1, 'GeoSummary', 'TEXT', 1, None, 0),\n",
       " (2, 'GeoRegion', 'TEXT', 1, None, 0)]"
      ]
     },
     "execution_count": 44,
     "metadata": {},
     "output_type": "execute_result"
    }
   ],
   "source": [
    "%%sql\n",
    "pragma table_info('GEOGRAPHICDIMENSION');"
   ]
  },
  {
   "cell_type": "code",
   "execution_count": 45,
   "metadata": {},
   "outputs": [
    {
     "name": "stdout",
     "output_type": "stream",
     "text": [
      "Done.\n"
     ]
    },
    {
     "data": {
      "text/html": [
       "<table>\n",
       "    <tr>\n",
       "        <th>cid</th>\n",
       "        <th>name</th>\n",
       "        <th>type</th>\n",
       "        <th>notnull</th>\n",
       "        <th>dflt_value</th>\n",
       "        <th>pk</th>\n",
       "    </tr>\n",
       "    <tr>\n",
       "        <td>0</td>\n",
       "        <td>OperatingID</td>\n",
       "        <td>INTEGER</td>\n",
       "        <td>0</td>\n",
       "        <td>None</td>\n",
       "        <td>1</td>\n",
       "    </tr>\n",
       "    <tr>\n",
       "        <td>1</td>\n",
       "        <td>OperatingAirlineIdentifier</td>\n",
       "        <td>TEXT</td>\n",
       "        <td>0</td>\n",
       "        <td>None</td>\n",
       "        <td>0</td>\n",
       "    </tr>\n",
       "    <tr>\n",
       "        <td>2</td>\n",
       "        <td>OperatingIATA</td>\n",
       "        <td>TEXT</td>\n",
       "        <td>0</td>\n",
       "        <td>None</td>\n",
       "        <td>0</td>\n",
       "    </tr>\n",
       "</table>"
      ],
      "text/plain": [
       "[(0, 'OperatingID', 'INTEGER', 0, None, 1),\n",
       " (1, 'OperatingAirlineIdentifier', 'TEXT', 0, None, 0),\n",
       " (2, 'OperatingIATA', 'TEXT', 0, None, 0)]"
      ]
     },
     "execution_count": 45,
     "metadata": {},
     "output_type": "execute_result"
    }
   ],
   "source": [
    "%%sql\n",
    "pragma table_info('OPERATINGAIRDIMENSION');"
   ]
  },
  {
   "cell_type": "code",
   "execution_count": 46,
   "metadata": {},
   "outputs": [
    {
     "name": "stdout",
     "output_type": "stream",
     "text": [
      "Done.\n"
     ]
    },
    {
     "data": {
      "text/html": [
       "<table>\n",
       "    <tr>\n",
       "        <th>cid</th>\n",
       "        <th>name</th>\n",
       "        <th>type</th>\n",
       "        <th>notnull</th>\n",
       "        <th>dflt_value</th>\n",
       "        <th>pk</th>\n",
       "    </tr>\n",
       "    <tr>\n",
       "        <td>0</td>\n",
       "        <td>BridgeID</td>\n",
       "        <td>INTEGER</td>\n",
       "        <td>0</td>\n",
       "        <td>None</td>\n",
       "        <td>1</td>\n",
       "    </tr>\n",
       "    <tr>\n",
       "        <td>1</td>\n",
       "        <td>PublishedID</td>\n",
       "        <td>INTERGER</td>\n",
       "        <td>1</td>\n",
       "        <td>None</td>\n",
       "        <td>0</td>\n",
       "    </tr>\n",
       "    <tr>\n",
       "        <td>2</td>\n",
       "        <td>OperatingID</td>\n",
       "        <td>INTERGER</td>\n",
       "        <td>1</td>\n",
       "        <td>None</td>\n",
       "        <td>0</td>\n",
       "    </tr>\n",
       "</table>"
      ],
      "text/plain": [
       "[(0, 'BridgeID', 'INTEGER', 0, None, 1),\n",
       " (1, 'PublishedID', 'INTERGER', 1, None, 0),\n",
       " (2, 'OperatingID', 'INTERGER', 1, None, 0)]"
      ]
     },
     "execution_count": 46,
     "metadata": {},
     "output_type": "execute_result"
    }
   ],
   "source": [
    "%%sql\n",
    "pragma table_info('BRIDGEDIMENSION');"
   ]
  },
  {
   "cell_type": "code",
   "execution_count": 47,
   "metadata": {},
   "outputs": [
    {
     "name": "stdout",
     "output_type": "stream",
     "text": [
      "Done.\n"
     ]
    },
    {
     "data": {
      "text/html": [
       "<table>\n",
       "    <tr>\n",
       "        <th>cid</th>\n",
       "        <th>name</th>\n",
       "        <th>type</th>\n",
       "        <th>notnull</th>\n",
       "        <th>dflt_value</th>\n",
       "        <th>pk</th>\n",
       "    </tr>\n",
       "    <tr>\n",
       "        <td>0</td>\n",
       "        <td>PublishedID</td>\n",
       "        <td>INTEGER</td>\n",
       "        <td>0</td>\n",
       "        <td>None</td>\n",
       "        <td>1</td>\n",
       "    </tr>\n",
       "    <tr>\n",
       "        <td>1</td>\n",
       "        <td>PublishedAirline</td>\n",
       "        <td>TEXT</td>\n",
       "        <td>0</td>\n",
       "        <td>None</td>\n",
       "        <td>0</td>\n",
       "    </tr>\n",
       "    <tr>\n",
       "        <td>2</td>\n",
       "        <td>PublishedIATA</td>\n",
       "        <td>TEXT</td>\n",
       "        <td>0</td>\n",
       "        <td>None</td>\n",
       "        <td>0</td>\n",
       "    </tr>\n",
       "</table>"
      ],
      "text/plain": [
       "[(0, 'PublishedID', 'INTEGER', 0, None, 1),\n",
       " (1, 'PublishedAirline', 'TEXT', 0, None, 0),\n",
       " (2, 'PublishedIATA', 'TEXT', 0, None, 0)]"
      ]
     },
     "execution_count": 47,
     "metadata": {},
     "output_type": "execute_result"
    }
   ],
   "source": [
    "%%sql\n",
    "pragma table_info('PUBLISHEDAIRDIMENSION');"
   ]
  },
  {
   "cell_type": "code",
   "execution_count": null,
   "metadata": {
    "collapsed": true
   },
   "outputs": [],
   "source": []
  }
 ],
 "metadata": {
  "kernelspec": {
   "display_name": "Python 3",
   "language": "python",
   "name": "python3"
  },
  "language_info": {
   "codemirror_mode": {
    "name": "ipython",
    "version": 3
   },
   "file_extension": ".py",
   "mimetype": "text/x-python",
   "name": "python",
   "nbconvert_exporter": "python",
   "pygments_lexer": "ipython3",
   "version": "3.6.3"
  }
 },
 "nbformat": 4,
 "nbformat_minor": 2
}
