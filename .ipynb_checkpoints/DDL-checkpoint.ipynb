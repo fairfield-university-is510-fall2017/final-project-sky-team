{
 "cells": [
  {
   "cell_type": "markdown",
   "metadata": {},
   "source": [
    "## SQLite DDL"
   ]
  },
  {
   "cell_type": "markdown",
   "metadata": {},
   "source": [
    "## This notebook is the DDL of the air traffic database. "
   ]
  },
  {
   "cell_type": "markdown",
   "metadata": {},
   "source": [
    "### Import sqlite3, Pandas, and the ipython-sql (%sql) Jupyter extension"
   ]
  },
  {
   "cell_type": "code",
   "execution_count": 1,
   "metadata": {
    "collapsed": true
   },
   "outputs": [],
   "source": [
    "import sqlite3\n",
    "import pandas as pd\n",
    "\n",
    "%load_ext sql"
   ]
  },
  {
   "cell_type": "markdown",
   "metadata": {},
   "source": [
    "### Connecting to the database"
   ]
  },
  {
   "cell_type": "code",
   "execution_count": 2,
   "metadata": {},
   "outputs": [
    {
     "data": {
      "text/plain": [
       "'Connected: None@airtraffic.db'"
      ]
     },
     "execution_count": 2,
     "metadata": {},
     "output_type": "execute_result"
    }
   ],
   "source": [
    "%sql sqlite:///airtraffic.db"
   ]
  },
  {
   "cell_type": "markdown",
   "metadata": {},
   "source": [
    "### Creating tables schema"
   ]
  },
  {
   "cell_type": "code",
   "execution_count": 3,
   "metadata": {},
   "outputs": [
    {
     "name": "stdout",
     "output_type": "stream",
     "text": [
      "Done.\n"
     ]
    },
    {
     "data": {
      "text/plain": [
       "[]"
      ]
     },
     "execution_count": 3,
     "metadata": {},
     "output_type": "execute_result"
    }
   ],
   "source": [
    "%%sql \n",
    "CREATE TABLE AIRPORTDIMENSION (\n",
    "    AirportID INTEGER PRIMARY KEY,\n",
    "    Terminal TEXT NOT NULL,\n",
    "    BoardingArea TEXT\n",
    ");"
   ]
  },
  {
   "cell_type": "code",
   "execution_count": 21,
   "metadata": {},
   "outputs": [
    {
     "data": {
      "text/plain": [
       "'Connected: None@deals.db'"
      ]
     },
     "execution_count": 21,
     "metadata": {},
     "output_type": "execute_result"
    }
   ],
   "source": [
    "%%sql \n",
    "CREATE TABLE GEOGRAPHICDIMENSION (\n",
    "    GeoID INTEGER PRIMARY KEY,\n",
    "    GeoSummary TEXT NOT NULL,\n",
    "    GeoRegion TEXT NOT NULL,\n",
    ");"
   ]
  },
  {
   "cell_type": "code",
   "execution_count": 22,
   "metadata": {},
   "outputs": [
    {
     "name": "stdout",
     "output_type": "stream",
     "text": [
      "Done.\n"
     ]
    },
    {
     "data": {
      "text/plain": [
       "[]"
      ]
     },
     "execution_count": 22,
     "metadata": {},
     "output_type": "execute_result"
    }
   ],
   "source": [
    "%%sql \n",
    "CREATE TABLE OPERATINGAIRDIMENSION (\n",
    "    OperatingID INTEGER PRIMARY KEY,\n",
    "    OperatingAirlineIdentifier TEXT,\n",
    "    OperatingIATA TEXT,\n",
    ");"
   ]
  },
  {
   "cell_type": "code",
   "execution_count": null,
   "metadata": {
    "collapsed": true
   },
   "outputs": [],
   "source": [
    "%%sql \n",
    "CREATE TABLE PUBLISHEDAIRDIMENSION (\n",
    "    PublishedID INTEGER PRIMARY KEY,\n",
    "    PublishedAirline TEXT,\n",
    "    PublishedIATA TEXT,\n",
    ");"
   ]
  },
  {
   "cell_type": "code",
   "execution_count": null,
   "metadata": {
    "collapsed": true
   },
   "outputs": [],
   "source": [
    "%%sql\n",
    "CREATE Table BRIDGEDIMENSION (\n",
    "    BridgeID INTEGER PRIMARY KEY,\n",
    "    PublishedID INTERGER NOT NULL,\n",
    "    OperatingID INTERGER NOT NULL,\n",
    "    FOREIGN KEY (PublishedID) REFERENCES PUBLISHEDAIRDIMENSION (PublishedID),\n",
    "    FOREIGN KEY (OperatingID) REFERENCES OPERATINGAIRDIMENSION (OperatingID),\n",
    ");"
   ]
  },
  {
   "cell_type": "code",
   "execution_count": 1,
   "metadata": {},
   "outputs": [
    {
     "ename": "SyntaxError",
     "evalue": "invalid syntax (<ipython-input-1-3f8604298ccd>, line 1)",
     "output_type": "error",
     "traceback": [
      "\u001b[1;36m  File \u001b[1;32m\"<ipython-input-1-3f8604298ccd>\"\u001b[1;36m, line \u001b[1;32m1\u001b[0m\n\u001b[1;33m    CREATE TABLE AIRTERMINAL (\u001b[0m\n\u001b[1;37m               ^\u001b[0m\n\u001b[1;31mSyntaxError\u001b[0m\u001b[1;31m:\u001b[0m invalid syntax\n"
     ]
    }
   ],
   "source": [
    "%%sql\n",
    "CREATE TABLE AIRTERMINAL (\n",
    "    ActivityID INTEGER PRIMARY KEY,\n",
    "    ActivityType TEXT NOT NULL,\n",
    ");"
   ]
  },
  {
   "cell_type": "code",
   "execution_count": null,
   "metadata": {
    "collapsed": true
   },
   "outputs": [],
   "source": [
    "%%sql\n",
    "CREATE TABLE PRICEDIMENSION (\n",
    "    PriceID INTEGER PRIMARY KEY,\n",
    "    PriceCategory TEXT NOT NULL,\n",
    ");"
   ]
  },
  {
   "cell_type": "code",
   "execution_count": null,
   "metadata": {
    "collapsed": true
   },
   "outputs": [],
   "source": [
    "%%sql\n",
    "CREATE TABLE TIMEDIMENSION (\n",
    "    TimeID INTEGER PRIMARY KEY,\n",
    "    ActivityPeriod INTEGER NOT NULL,\n",
    "    ActivityPeriodMonth INTEGER NOT NULL,\n",
    "    ActivityPeriodYear INTEGER NOT NULL,\n",
    ");"
   ]
  }
 ],
 "metadata": {
  "kernelspec": {
   "display_name": "Python 3",
   "language": "python",
   "name": "python3"
  },
  "language_info": {
   "codemirror_mode": {
    "name": "ipython",
    "version": 3
   },
   "file_extension": ".py",
   "mimetype": "text/x-python",
   "name": "python",
   "nbconvert_exporter": "python",
   "pygments_lexer": "ipython3",
   "version": "3.6.3"
  }
 },
 "nbformat": 4,
 "nbformat_minor": 2
}
